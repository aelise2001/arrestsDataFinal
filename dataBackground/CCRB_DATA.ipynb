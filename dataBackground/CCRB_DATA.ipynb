{
 "cells": [
  {
   "cell_type": "code",
   "execution_count": 1,
   "id": "c9141fb9",
   "metadata": {},
   "outputs": [],
   "source": [
    "## Using Pandas\n",
    "\n",
    "import pandas as pd"
   ]
  },
  {
   "cell_type": "code",
   "execution_count": null,
   "id": "2a4f0c42",
   "metadata": {},
   "outputs": [],
   "source": []
  },
  {
   "cell_type": "code",
   "execution_count": 36,
   "id": "c848f0cc",
   "metadata": {},
   "outputs": [],
   "source": [
    "#scraped CCRB data off their website and made a 2 page excel file\n",
    "df30 = pd.read_excel(\"CCRB_COMPLAINT_DATA.xlsx\", sheet_name = \"30th_PCT\")\n",
    "df26 = pd.read_excel(\"CCRB_COMPLAINT_DATA.xlsx\", sheet_name = \"26th_PCT\")"
   ]
  },
  {
   "cell_type": "code",
   "execution_count": 37,
   "id": "3da246a7",
   "metadata": {},
   "outputs": [
    {
     "data": {
      "text/html": [
       "<div>\n",
       "<style scoped>\n",
       "    .dataframe tbody tr th:only-of-type {\n",
       "        vertical-align: middle;\n",
       "    }\n",
       "\n",
       "    .dataframe tbody tr th {\n",
       "        vertical-align: top;\n",
       "    }\n",
       "\n",
       "    .dataframe thead th {\n",
       "        text-align: right;\n",
       "    }\n",
       "</style>\n",
       "<table border=\"1\" class=\"dataframe\">\n",
       "  <thead>\n",
       "    <tr style=\"text-align: right;\">\n",
       "      <th></th>\n",
       "      <th>Officer</th>\n",
       "      <th>Allegations</th>\n",
       "      <th>Substantiated</th>\n",
       "      <th>Most Recent</th>\n",
       "      <th>□</th>\n",
       "    </tr>\n",
       "  </thead>\n",
       "  <tbody>\n",
       "    <tr>\n",
       "      <th>0</th>\n",
       "      <td>Guzman, Yoel  #23183</td>\n",
       "      <td>1</td>\n",
       "      <td>0</td>\n",
       "      <td>2,024</td>\n",
       "      <td>NaN</td>\n",
       "    </tr>\n",
       "    <tr>\n",
       "      <th>1</th>\n",
       "      <td>Barreto, Hector  #2659</td>\n",
       "      <td>4</td>\n",
       "      <td>0</td>\n",
       "      <td>2,024</td>\n",
       "      <td>NaN</td>\n",
       "    </tr>\n",
       "    <tr>\n",
       "      <th>2</th>\n",
       "      <td>Taveras, Robin</td>\n",
       "      <td>19</td>\n",
       "      <td>1</td>\n",
       "      <td>2,023</td>\n",
       "      <td>NaN</td>\n",
       "    </tr>\n",
       "    <tr>\n",
       "      <th>3</th>\n",
       "      <td>Lall, Anthony S.  #30452</td>\n",
       "      <td>7</td>\n",
       "      <td>0</td>\n",
       "      <td>2,023</td>\n",
       "      <td>NaN</td>\n",
       "    </tr>\n",
       "    <tr>\n",
       "      <th>4</th>\n",
       "      <td>Gonzalez, Sofia  #17700</td>\n",
       "      <td>1</td>\n",
       "      <td>0</td>\n",
       "      <td>2,023</td>\n",
       "      <td>NaN</td>\n",
       "    </tr>\n",
       "  </tbody>\n",
       "</table>\n",
       "</div>"
      ],
      "text/plain": [
       "                    Officer  Allegations  Substantiated  Most Recent   □\n",
       "0      Guzman, Yoel  #23183            1              0        2,024 NaN\n",
       "1    Barreto, Hector  #2659            4              0        2,024 NaN\n",
       "2            Taveras, Robin           19              1        2,023 NaN\n",
       "3  Lall, Anthony S.  #30452            7              0        2,023 NaN\n",
       "4   Gonzalez, Sofia  #17700            1              0        2,023 NaN"
      ]
     },
     "execution_count": 37,
     "metadata": {},
     "output_type": "execute_result"
    }
   ],
   "source": [
    "## previewing respective sheet pages - 30th pct\n",
    "df30.head()"
   ]
  },
  {
   "cell_type": "code",
   "execution_count": 38,
   "id": "193162cb",
   "metadata": {},
   "outputs": [
    {
     "data": {
      "text/html": [
       "<div>\n",
       "<style scoped>\n",
       "    .dataframe tbody tr th:only-of-type {\n",
       "        vertical-align: middle;\n",
       "    }\n",
       "\n",
       "    .dataframe tbody tr th {\n",
       "        vertical-align: top;\n",
       "    }\n",
       "\n",
       "    .dataframe thead th {\n",
       "        text-align: right;\n",
       "    }\n",
       "</style>\n",
       "<table border=\"1\" class=\"dataframe\">\n",
       "  <thead>\n",
       "    <tr style=\"text-align: right;\">\n",
       "      <th></th>\n",
       "      <th>Officer</th>\n",
       "      <th>Allegations</th>\n",
       "      <th>Substantiated</th>\n",
       "      <th>Most Recent</th>\n",
       "    </tr>\n",
       "  </thead>\n",
       "  <tbody>\n",
       "    <tr>\n",
       "      <th>0</th>\n",
       "      <td>Polanco, Daniel  #23872</td>\n",
       "      <td>1</td>\n",
       "      <td>0</td>\n",
       "      <td>2,023</td>\n",
       "    </tr>\n",
       "    <tr>\n",
       "      <th>1</th>\n",
       "      <td>Raphique, Awaz I.</td>\n",
       "      <td>2</td>\n",
       "      <td>0</td>\n",
       "      <td>2,023</td>\n",
       "    </tr>\n",
       "    <tr>\n",
       "      <th>2</th>\n",
       "      <td>Delinois, Billendy  #2694</td>\n",
       "      <td>11</td>\n",
       "      <td>0</td>\n",
       "      <td>2,023</td>\n",
       "    </tr>\n",
       "    <tr>\n",
       "      <th>3</th>\n",
       "      <td>Salomone, Anthony J.  #591</td>\n",
       "      <td>3</td>\n",
       "      <td>0</td>\n",
       "      <td>2,023</td>\n",
       "    </tr>\n",
       "    <tr>\n",
       "      <th>4</th>\n",
       "      <td>Linares, Lucia  #29378</td>\n",
       "      <td>2</td>\n",
       "      <td>0</td>\n",
       "      <td>2,023</td>\n",
       "    </tr>\n",
       "  </tbody>\n",
       "</table>\n",
       "</div>"
      ],
      "text/plain": [
       "                      Officer  Allegations  Substantiated  Most Recent\n",
       "0     Polanco, Daniel  #23872            1              0        2,023\n",
       "1           Raphique, Awaz I.            2              0        2,023\n",
       "2   Delinois, Billendy  #2694           11              0        2,023\n",
       "3  Salomone, Anthony J.  #591            3              0        2,023\n",
       "4      Linares, Lucia  #29378            2              0        2,023"
      ]
     },
     "execution_count": 38,
     "metadata": {},
     "output_type": "execute_result"
    }
   ],
   "source": [
    "## preview page 2 - 26 pct\n",
    "df26.head()"
   ]
  },
  {
   "cell_type": "code",
   "execution_count": 41,
   "id": "d9676ec1",
   "metadata": {},
   "outputs": [
    {
     "data": {
      "text/html": [
       "<div>\n",
       "<style scoped>\n",
       "    .dataframe tbody tr th:only-of-type {\n",
       "        vertical-align: middle;\n",
       "    }\n",
       "\n",
       "    .dataframe tbody tr th {\n",
       "        vertical-align: top;\n",
       "    }\n",
       "\n",
       "    .dataframe thead th {\n",
       "        text-align: right;\n",
       "    }\n",
       "</style>\n",
       "<table border=\"1\" class=\"dataframe\">\n",
       "  <thead>\n",
       "    <tr style=\"text-align: right;\">\n",
       "      <th></th>\n",
       "      <th>Officer</th>\n",
       "      <th>Allegations</th>\n",
       "      <th>Substantiated</th>\n",
       "      <th>Most Recent</th>\n",
       "      <th>□</th>\n",
       "    </tr>\n",
       "  </thead>\n",
       "  <tbody>\n",
       "    <tr>\n",
       "      <th>0</th>\n",
       "      <td>Guzman, Yoel  #23183</td>\n",
       "      <td>1</td>\n",
       "      <td>0</td>\n",
       "      <td>2,024</td>\n",
       "      <td>NaN</td>\n",
       "    </tr>\n",
       "    <tr>\n",
       "      <th>1</th>\n",
       "      <td>Barreto, Hector  #2659</td>\n",
       "      <td>4</td>\n",
       "      <td>0</td>\n",
       "      <td>2,024</td>\n",
       "      <td>NaN</td>\n",
       "    </tr>\n",
       "    <tr>\n",
       "      <th>2</th>\n",
       "      <td>Taveras, Robin</td>\n",
       "      <td>19</td>\n",
       "      <td>1</td>\n",
       "      <td>2,023</td>\n",
       "      <td>NaN</td>\n",
       "    </tr>\n",
       "    <tr>\n",
       "      <th>3</th>\n",
       "      <td>Lall, Anthony S.  #30452</td>\n",
       "      <td>7</td>\n",
       "      <td>0</td>\n",
       "      <td>2,023</td>\n",
       "      <td>NaN</td>\n",
       "    </tr>\n",
       "    <tr>\n",
       "      <th>4</th>\n",
       "      <td>Gonzalez, Sofia  #17700</td>\n",
       "      <td>1</td>\n",
       "      <td>0</td>\n",
       "      <td>2,023</td>\n",
       "      <td>NaN</td>\n",
       "    </tr>\n",
       "    <tr>\n",
       "      <th>...</th>\n",
       "      <td>...</td>\n",
       "      <td>...</td>\n",
       "      <td>...</td>\n",
       "      <td>...</td>\n",
       "      <td>...</td>\n",
       "    </tr>\n",
       "    <tr>\n",
       "      <th>121</th>\n",
       "      <td>Torresperez, Mabel  #13462</td>\n",
       "      <td>0</td>\n",
       "      <td>0</td>\n",
       "      <td>NaN</td>\n",
       "      <td>NaN</td>\n",
       "    </tr>\n",
       "    <tr>\n",
       "      <th>122</th>\n",
       "      <td>Torsiello, Juliana N.  #29769</td>\n",
       "      <td>0</td>\n",
       "      <td>0</td>\n",
       "      <td>NaN</td>\n",
       "      <td>NaN</td>\n",
       "    </tr>\n",
       "    <tr>\n",
       "      <th>123</th>\n",
       "      <td>Vella, Justin  #10719</td>\n",
       "      <td>0</td>\n",
       "      <td>0</td>\n",
       "      <td>NaN</td>\n",
       "      <td>NaN</td>\n",
       "    </tr>\n",
       "    <tr>\n",
       "      <th>124</th>\n",
       "      <td>Wha, Minho  #13904</td>\n",
       "      <td>0</td>\n",
       "      <td>0</td>\n",
       "      <td>NaN</td>\n",
       "      <td>NaN</td>\n",
       "    </tr>\n",
       "    <tr>\n",
       "      <th>125</th>\n",
       "      <td>Williams, Casey S.  #26535</td>\n",
       "      <td>0</td>\n",
       "      <td>0</td>\n",
       "      <td>NaN</td>\n",
       "      <td>NaN</td>\n",
       "    </tr>\n",
       "  </tbody>\n",
       "</table>\n",
       "<p>126 rows × 5 columns</p>\n",
       "</div>"
      ],
      "text/plain": [
       "                           Officer  Allegations  Substantiated  Most Recent  \\\n",
       "0             Guzman, Yoel  #23183            1              0        2,024   \n",
       "1           Barreto, Hector  #2659            4              0        2,024   \n",
       "2                   Taveras, Robin           19              1        2,023   \n",
       "3         Lall, Anthony S.  #30452            7              0        2,023   \n",
       "4          Gonzalez, Sofia  #17700            1              0        2,023   \n",
       "..                             ...          ...            ...          ...   \n",
       "121     Torresperez, Mabel  #13462            0              0          NaN   \n",
       "122  Torsiello, Juliana N.  #29769            0              0          NaN   \n",
       "123          Vella, Justin  #10719            0              0          NaN   \n",
       "124             Wha, Minho  #13904            0              0          NaN   \n",
       "125     Williams, Casey S.  #26535            0              0          NaN   \n",
       "\n",
       "      □  \n",
       "0   NaN  \n",
       "1   NaN  \n",
       "2   NaN  \n",
       "3   NaN  \n",
       "4   NaN  \n",
       "..   ..  \n",
       "121 NaN  \n",
       "122 NaN  \n",
       "123 NaN  \n",
       "124 NaN  \n",
       "125 NaN  \n",
       "\n",
       "[126 rows x 5 columns]"
      ]
     },
     "execution_count": 41,
     "metadata": {},
     "output_type": "execute_result"
    }
   ],
   "source": [
    "df30"
   ]
  },
  {
   "cell_type": "code",
   "execution_count": 54,
   "id": "c0e976d8",
   "metadata": {},
   "outputs": [
    {
     "data": {
      "text/html": [
       "<div>\n",
       "<style scoped>\n",
       "    .dataframe tbody tr th:only-of-type {\n",
       "        vertical-align: middle;\n",
       "    }\n",
       "\n",
       "    .dataframe tbody tr th {\n",
       "        vertical-align: top;\n",
       "    }\n",
       "\n",
       "    .dataframe thead th {\n",
       "        text-align: right;\n",
       "    }\n",
       "</style>\n",
       "<table border=\"1\" class=\"dataframe\">\n",
       "  <thead>\n",
       "    <tr style=\"text-align: right;\">\n",
       "      <th></th>\n",
       "      <th>Thirty_PCT</th>\n",
       "    </tr>\n",
       "    <tr>\n",
       "      <th>Most Recent</th>\n",
       "      <th></th>\n",
       "    </tr>\n",
       "  </thead>\n",
       "  <tbody>\n",
       "    <tr>\n",
       "      <th>1,993</th>\n",
       "      <td>12</td>\n",
       "    </tr>\n",
       "    <tr>\n",
       "      <th>2,008</th>\n",
       "      <td>1</td>\n",
       "    </tr>\n",
       "    <tr>\n",
       "      <th>2,009</th>\n",
       "      <td>4</td>\n",
       "    </tr>\n",
       "    <tr>\n",
       "      <th>2,011</th>\n",
       "      <td>3</td>\n",
       "    </tr>\n",
       "    <tr>\n",
       "      <th>2,012</th>\n",
       "      <td>2</td>\n",
       "    </tr>\n",
       "    <tr>\n",
       "      <th>2,013</th>\n",
       "      <td>1</td>\n",
       "    </tr>\n",
       "    <tr>\n",
       "      <th>2,015</th>\n",
       "      <td>2</td>\n",
       "    </tr>\n",
       "    <tr>\n",
       "      <th>2,016</th>\n",
       "      <td>15</td>\n",
       "    </tr>\n",
       "    <tr>\n",
       "      <th>2,017</th>\n",
       "      <td>16</td>\n",
       "    </tr>\n",
       "    <tr>\n",
       "      <th>2,018</th>\n",
       "      <td>22</td>\n",
       "    </tr>\n",
       "    <tr>\n",
       "      <th>2,019</th>\n",
       "      <td>19</td>\n",
       "    </tr>\n",
       "    <tr>\n",
       "      <th>2,020</th>\n",
       "      <td>39</td>\n",
       "    </tr>\n",
       "    <tr>\n",
       "      <th>2,021</th>\n",
       "      <td>30</td>\n",
       "    </tr>\n",
       "    <tr>\n",
       "      <th>2,022</th>\n",
       "      <td>54</td>\n",
       "    </tr>\n",
       "    <tr>\n",
       "      <th>2,023</th>\n",
       "      <td>109</td>\n",
       "    </tr>\n",
       "    <tr>\n",
       "      <th>2,024</th>\n",
       "      <td>5</td>\n",
       "    </tr>\n",
       "  </tbody>\n",
       "</table>\n",
       "</div>"
      ],
      "text/plain": [
       "             Thirty_PCT\n",
       "Most Recent            \n",
       "1,993                12\n",
       "2,008                 1\n",
       "2,009                 4\n",
       "2,011                 3\n",
       "2,012                 2\n",
       "2,013                 1\n",
       "2,015                 2\n",
       "2,016                15\n",
       "2,017                16\n",
       "2,018                22\n",
       "2,019                19\n",
       "2,020                39\n",
       "2,021                30\n",
       "2,022                54\n",
       "2,023               109\n",
       "2,024                 5"
      ]
     },
     "execution_count": 54,
     "metadata": {},
     "output_type": "execute_result"
    }
   ],
   "source": [
    "## find total allegations to zoom in on the data\n",
    "total_allegations = df30.groupby(\"Allegations\")\n",
    "df30.groupby(\"Most Recent\")[\"Allegations\"].sum().to_frame(\"Thirty_PCT\")"
   ]
  },
  {
   "cell_type": "code",
   "execution_count": null,
   "id": "7b69f503",
   "metadata": {},
   "outputs": [],
   "source": []
  },
  {
   "cell_type": "code",
   "execution_count": 65,
   "id": "a7b1e7df",
   "metadata": {},
   "outputs": [
    {
     "data": {
      "text/plain": [
       "51"
      ]
     },
     "execution_count": 65,
     "metadata": {},
     "output_type": "execute_result"
    }
   ],
   "source": [
    "## math to check the data\n",
    "df30[\"Substantiated\"].sum()"
   ]
  },
  {
   "cell_type": "code",
   "execution_count": 67,
   "id": "e3cf8b90",
   "metadata": {},
   "outputs": [
    {
     "data": {
      "text/plain": [
       "334"
      ]
     },
     "execution_count": 67,
     "metadata": {},
     "output_type": "execute_result"
    }
   ],
   "source": [
    "## math to check the data\n",
    "df30[\"Allegations\"].sum()"
   ]
  },
  {
   "cell_type": "code",
   "execution_count": 66,
   "id": "912b0ce6",
   "metadata": {},
   "outputs": [
    {
     "data": {
      "text/plain": [
       "217"
      ]
     },
     "execution_count": 66,
     "metadata": {},
     "output_type": "execute_result"
    }
   ],
   "source": [
    "## math to check the data\n",
    "df26[\"Allegations\"].sum()"
   ]
  },
  {
   "cell_type": "code",
   "execution_count": 68,
   "id": "f6f1ac88",
   "metadata": {},
   "outputs": [
    {
     "data": {
      "text/plain": [
       "19"
      ]
     },
     "execution_count": 68,
     "metadata": {},
     "output_type": "execute_result"
    }
   ],
   "source": [
    "## math to check the data\n",
    "df26[\"Substantiated\"].sum()"
   ]
  },
  {
   "cell_type": "code",
   "execution_count": 97,
   "id": "3db30aed",
   "metadata": {},
   "outputs": [],
   "source": [
    "## make DF for first sheet\n",
    "df1 = df30[[\"Allegations\",\"Substantiated\"]].sum().to_frame(\"30_Pct\")"
   ]
  },
  {
   "cell_type": "code",
   "execution_count": 98,
   "id": "cf65a689",
   "metadata": {},
   "outputs": [],
   "source": [
    "## make DF for second sheet\n",
    "df2 = df26[[\"Allegations\",\"Substantiated\"]].sum().to_frame(\"26_Pct\")"
   ]
  },
  {
   "cell_type": "code",
   "execution_count": 99,
   "id": "9a7c8adb",
   "metadata": {},
   "outputs": [],
   "source": [
    "## Create a new df to concat\n",
    "dfs = [df1, df2]"
   ]
  },
  {
   "cell_type": "code",
   "execution_count": null,
   "id": "5cceb2ad",
   "metadata": {},
   "outputs": [],
   "source": []
  },
  {
   "cell_type": "code",
   "execution_count": 104,
   "id": "86d9734f",
   "metadata": {},
   "outputs": [],
   "source": [
    "## concat both pages and focused DF numbers\n",
    "df = pd.concat(dfs, axis=1)"
   ]
  },
  {
   "cell_type": "code",
   "execution_count": 105,
   "id": "c19abdfd",
   "metadata": {},
   "outputs": [
    {
     "data": {
      "text/html": [
       "<div>\n",
       "<style scoped>\n",
       "    .dataframe tbody tr th:only-of-type {\n",
       "        vertical-align: middle;\n",
       "    }\n",
       "\n",
       "    .dataframe tbody tr th {\n",
       "        vertical-align: top;\n",
       "    }\n",
       "\n",
       "    .dataframe thead th {\n",
       "        text-align: right;\n",
       "    }\n",
       "</style>\n",
       "<table border=\"1\" class=\"dataframe\">\n",
       "  <thead>\n",
       "    <tr style=\"text-align: right;\">\n",
       "      <th></th>\n",
       "      <th>30_Pct</th>\n",
       "      <th>26_Pct</th>\n",
       "    </tr>\n",
       "  </thead>\n",
       "  <tbody>\n",
       "    <tr>\n",
       "      <th>Allegations</th>\n",
       "      <td>334</td>\n",
       "      <td>217</td>\n",
       "    </tr>\n",
       "    <tr>\n",
       "      <th>Substantiated</th>\n",
       "      <td>51</td>\n",
       "      <td>19</td>\n",
       "    </tr>\n",
       "  </tbody>\n",
       "</table>\n",
       "</div>"
      ],
      "text/plain": [
       "               30_Pct  26_Pct\n",
       "Allegations       334     217\n",
       "Substantiated      51      19"
      ]
     },
     "execution_count": 105,
     "metadata": {},
     "output_type": "execute_result"
    }
   ],
   "source": [
    "## creating my DF to export to csv to upload to datawrapper\n",
    "df"
   ]
  },
  {
   "cell_type": "code",
   "execution_count": 107,
   "id": "f662cb73",
   "metadata": {},
   "outputs": [],
   "source": [
    "## create CSV to use for visualization \n",
    "df.to_csv(\"ccrb_data.csv\")"
   ]
  },
  {
   "cell_type": "code",
   "execution_count": null,
   "id": "d9c144e3",
   "metadata": {},
   "outputs": [],
   "source": []
  }
 ],
 "metadata": {
  "kernelspec": {
   "display_name": "Python 3 (ipykernel)",
   "language": "python",
   "name": "python3"
  },
  "language_info": {
   "codemirror_mode": {
    "name": "ipython",
    "version": 3
   },
   "file_extension": ".py",
   "mimetype": "text/x-python",
   "name": "python",
   "nbconvert_exporter": "python",
   "pygments_lexer": "ipython3",
   "version": "3.11.5"
  }
 },
 "nbformat": 4,
 "nbformat_minor": 5
}
