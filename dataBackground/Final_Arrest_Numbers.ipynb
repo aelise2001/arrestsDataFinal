{
 "cells": [
  {
   "cell_type": "code",
   "execution_count": 4,
   "id": "1934a051",
   "metadata": {},
   "outputs": [],
   "source": [
    "import pandas as pd"
   ]
  },
  {
   "cell_type": "code",
   "execution_count": 26,
   "id": "711f633f",
   "metadata": {},
   "outputs": [
    {
     "data": {
      "text/html": [
       "<div>\n",
       "<style scoped>\n",
       "    .dataframe tbody tr th:only-of-type {\n",
       "        vertical-align: middle;\n",
       "    }\n",
       "\n",
       "    .dataframe tbody tr th {\n",
       "        vertical-align: top;\n",
       "    }\n",
       "\n",
       "    .dataframe thead th {\n",
       "        text-align: right;\n",
       "    }\n",
       "</style>\n",
       "<table border=\"1\" class=\"dataframe\">\n",
       "  <thead>\n",
       "    <tr style=\"text-align: right;\">\n",
       "      <th></th>\n",
       "      <th>Arrests</th>\n",
       "      <th>School</th>\n",
       "      <th>Charge</th>\n",
       "    </tr>\n",
       "  </thead>\n",
       "  <tbody>\n",
       "    <tr>\n",
       "      <th>0</th>\n",
       "      <td>45</td>\n",
       "      <td>Columbia</td>\n",
       "      <td>Criminal trespass 3rd enclosed prop</td>\n",
       "    </tr>\n",
       "    <tr>\n",
       "      <th>1</th>\n",
       "      <td>67</td>\n",
       "      <td>Columbia</td>\n",
       "      <td>Unknown</td>\n",
       "    </tr>\n",
       "    <tr>\n",
       "      <th>2</th>\n",
       "      <td>3</td>\n",
       "      <td>Columbia</td>\n",
       "      <td>Burglary 3rd, illegal Entry With Intent, Obstr...</td>\n",
       "    </tr>\n",
       "    <tr>\n",
       "      <th>3</th>\n",
       "      <td>1</td>\n",
       "      <td>Columbia</td>\n",
       "      <td>Burglary 3rd,  illegal entry with intent, Crim...</td>\n",
       "    </tr>\n",
       "    <tr>\n",
       "      <th>4</th>\n",
       "      <td>7</td>\n",
       "      <td>Columbia</td>\n",
       "      <td>Burglary 3rd, illegal entry with intent</td>\n",
       "    </tr>\n",
       "    <tr>\n",
       "      <th>5</th>\n",
       "      <td>3</td>\n",
       "      <td>CUNY</td>\n",
       "      <td>Burglary in 3rd degree, illegal entry with int...</td>\n",
       "    </tr>\n",
       "    <tr>\n",
       "      <th>6</th>\n",
       "      <td>13</td>\n",
       "      <td>CUNY</td>\n",
       "      <td>Burglary in 3rd degree, illegal entry with intent</td>\n",
       "    </tr>\n",
       "    <tr>\n",
       "      <th>7</th>\n",
       "      <td>1</td>\n",
       "      <td>CUNY</td>\n",
       "      <td>Burglary in 3rd degree, illegal entry with int...</td>\n",
       "    </tr>\n",
       "    <tr>\n",
       "      <th>8</th>\n",
       "      <td>1</td>\n",
       "      <td>CUNY</td>\n",
       "      <td>resisting arrest/assault</td>\n",
       "    </tr>\n",
       "  </tbody>\n",
       "</table>\n",
       "</div>"
      ],
      "text/plain": [
       "   Arrests    School                                             Charge\n",
       "0       45  Columbia                Criminal trespass 3rd enclosed prop\n",
       "1       67  Columbia                                            Unknown\n",
       "2        3  Columbia  Burglary 3rd, illegal Entry With Intent, Obstr...\n",
       "3        1  Columbia  Burglary 3rd,  illegal entry with intent, Crim...\n",
       "4        7  Columbia            Burglary 3rd, illegal entry with intent\n",
       "5        3      CUNY  Burglary in 3rd degree, illegal entry with int...\n",
       "6       13      CUNY  Burglary in 3rd degree, illegal entry with intent\n",
       "7        1      CUNY  Burglary in 3rd degree, illegal entry with int...\n",
       "8        1      CUNY                           resisting arrest/assault"
      ]
     },
     "execution_count": 26,
     "metadata": {},
     "output_type": "execute_result"
    }
   ],
   "source": [
    "dfa = pd.read_csv(\"Final_Project/Data_Wrapper-locations.csv\")\n",
    "dfa"
   ]
  },
  {
   "cell_type": "code",
   "execution_count": null,
   "id": "18f42ef6",
   "metadata": {},
   "outputs": [],
   "source": []
  }
 ],
 "metadata": {
  "kernelspec": {
   "display_name": "Python 3 (ipykernel)",
   "language": "python",
   "name": "python3"
  },
  "language_info": {
   "codemirror_mode": {
    "name": "ipython",
    "version": 3
   },
   "file_extension": ".py",
   "mimetype": "text/x-python",
   "name": "python",
   "nbconvert_exporter": "python",
   "pygments_lexer": "ipython3",
   "version": "3.11.5"
  }
 },
 "nbformat": 4,
 "nbformat_minor": 5
}
